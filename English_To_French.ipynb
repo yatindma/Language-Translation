{
  "nbformat": 4,
  "nbformat_minor": 0,
  "metadata": {
    "colab": {
      "name": "English_To_French.ipynb",
      "provenance": [],
      "collapsed_sections": [],
      "machine_shape": "hm"
    },
    "kernelspec": {
      "name": "python3",
      "display_name": "Python 3"
    },
    "accelerator": "GPU"
  },
  "cells": [
    {
      "cell_type": "code",
      "metadata": {
        "id": "4vzGO0unC-WF",
        "colab_type": "code",
        "colab": {}
      },
      "source": [
        "import pickle\n",
        "import pandas as pd\n",
        "with open('data', 'rb') as f:\n",
        "  data = pickle.load(f)"
      ],
      "execution_count": 0,
      "outputs": []
    },
    {
      "cell_type": "code",
      "metadata": {
        "id": "wto19rprEr7M",
        "colab_type": "code",
        "outputId": "1ea34175-19a0-4bed-c1f8-4f496ee4ec4c",
        "colab": {
          "base_uri": "https://localhost:8080/",
          "height": 111
        }
      },
      "source": [
        "data.head(2)\n"
      ],
      "execution_count": 4,
      "outputs": [
        {
          "output_type": "execute_result",
          "data": {
            "text/html": [
              "<div>\n",
              "<style scoped>\n",
              "    .dataframe tbody tr th:only-of-type {\n",
              "        vertical-align: middle;\n",
              "    }\n",
              "\n",
              "    .dataframe tbody tr th {\n",
              "        vertical-align: top;\n",
              "    }\n",
              "\n",
              "    .dataframe thead th {\n",
              "        text-align: right;\n",
              "    }\n",
              "</style>\n",
              "<table border=\"1\" class=\"dataframe\">\n",
              "  <thead>\n",
              "    <tr style=\"text-align: right;\">\n",
              "      <th></th>\n",
              "      <th>English</th>\n",
              "      <th>french</th>\n",
              "    </tr>\n",
              "  </thead>\n",
              "  <tbody>\n",
              "    <tr>\n",
              "      <th>0</th>\n",
              "      <td>new jersey is sometimes quiet during autumn , ...</td>\n",
              "      <td>new jersey est parfois calme pendant l' automn...</td>\n",
              "    </tr>\n",
              "    <tr>\n",
              "      <th>1</th>\n",
              "      <td>the united states is usually chilly during jul...</td>\n",
              "      <td>les états-unis est généralement froid en juill...</td>\n",
              "    </tr>\n",
              "  </tbody>\n",
              "</table>\n",
              "</div>"
            ],
            "text/plain": [
              "                                             English                                             french\n",
              "0  new jersey is sometimes quiet during autumn , ...  new jersey est parfois calme pendant l' automn...\n",
              "1  the united states is usually chilly during jul...  les états-unis est généralement froid en juill..."
            ]
          },
          "metadata": {
            "tags": []
          },
          "execution_count": 4
        }
      ]
    },
    {
      "cell_type": "code",
      "metadata": {
        "id": "hDi0U_l1XtIk",
        "colab_type": "code",
        "colab": {}
      },
      "source": [
        "# Vocabulary of English\n",
        "all_eng_words=[]\n",
        "for eng in data.English:\n",
        "    for word in eng.split():\n",
        "        if word not in all_eng_words:\n",
        "            all_eng_words.append(word)\n",
        "\n",
        "# Vocabulary of French \n",
        "all_french_words=[]\n",
        "for mar in data.french:\n",
        "    for word in mar.split():\n",
        "        if word not in all_french_words:\n",
        "            all_french_words.append(word)"
      ],
      "execution_count": 0,
      "outputs": []
    },
    {
      "cell_type": "code",
      "metadata": {
        "id": "5rCX0FObZ4JN",
        "colab_type": "code",
        "colab": {}
      },
      "source": [
        "all_eng_words = list(set(all_eng_words))"
      ],
      "execution_count": 0,
      "outputs": []
    },
    {
      "cell_type": "code",
      "metadata": {
        "id": "qIa4hS2ua-3n",
        "colab_type": "code",
        "colab": {}
      },
      "source": [
        "all_french_words = list(set(all_french_words))"
      ],
      "execution_count": 0,
      "outputs": []
    },
    {
      "cell_type": "code",
      "metadata": {
        "id": "eX0dl2XPNpd2",
        "colab_type": "code",
        "outputId": "54e286e2-acce-43f2-8fcc-78a207307772",
        "colab": {
          "base_uri": "https://localhost:8080/",
          "height": 34
        }
      },
      "source": [
        "import numpy as np\n",
        "lenght_list=[]\n",
        "for l in data.English:\n",
        "    lenght_list.append(len(l.split(' ')))\n",
        "max_length_src = np.max(lenght_list)\n",
        "max_length_src"
      ],
      "execution_count": 8,
      "outputs": [
        {
          "output_type": "execute_result",
          "data": {
            "text/plain": [
              "17"
            ]
          },
          "metadata": {
            "tags": []
          },
          "execution_count": 8
        }
      ]
    },
    {
      "cell_type": "code",
      "metadata": {
        "id": "gsOifdDLninm",
        "colab_type": "code",
        "outputId": "ef572c4f-666b-41d6-eaf1-4b866fe27a78",
        "colab": {
          "base_uri": "https://localhost:8080/",
          "height": 34
        }
      },
      "source": [
        "lenght_list=[]\n",
        "for l in data.french:\n",
        "    lenght_list.append(len(l.split(' ')))\n",
        "max_length_tar = np.max(lenght_list)\n",
        "max_length_tar"
      ],
      "execution_count": 9,
      "outputs": [
        {
          "output_type": "execute_result",
          "data": {
            "text/plain": [
              "23"
            ]
          },
          "metadata": {
            "tags": []
          },
          "execution_count": 9
        }
      ]
    },
    {
      "cell_type": "code",
      "metadata": {
        "id": "cO6NAiNCNpb0",
        "colab_type": "code",
        "outputId": "c3983f5b-4193-43bf-b749-28ae90381425",
        "colab": {
          "base_uri": "https://localhost:8080/",
          "height": 34
        }
      },
      "source": [
        "\n",
        "#All input words\n",
        "input_words = sorted(list(all_eng_words))\n",
        "target_words = sorted(list(all_french_words))\n",
        "\n",
        "# get the length of the vocabalary // Kitne words // this will help while performing embedding layer\n",
        "num_encoder_tokens = len(all_eng_words) + 1\n",
        "num_decoder_tokens = len(all_french_words) + 1\n",
        "\n",
        "num_encoder_tokens, num_decoder_tokens"
      ],
      "execution_count": 10,
      "outputs": [
        {
          "output_type": "execute_result",
          "data": {
            "text/plain": [
              "(228, 356)"
            ]
          },
          "metadata": {
            "tags": []
          },
          "execution_count": 10
        }
      ]
    },
    {
      "cell_type": "code",
      "metadata": {
        "id": "ffcT8tnQc-iP",
        "colab_type": "code",
        "colab": {}
      },
      "source": [
        "input_token_index = dict([(word, i+1) for i, word in enumerate(input_words)])\n",
        "target_token_index = dict([(word, i+1) for i, word in enumerate(target_words)])"
      ],
      "execution_count": 0,
      "outputs": []
    },
    {
      "cell_type": "code",
      "metadata": {
        "id": "iDtVafUqNpZs",
        "colab_type": "code",
        "colab": {
          "base_uri": "https://localhost:8080/",
          "height": 1000
        },
        "outputId": "0a773adb-402e-423e-b357-ccb227c9c971"
      },
      "source": [
        "#Tokenizing the source sentences\n",
        "input_token_index\n",
        "\n",
        "\n",
        "#Tokenizing the target sentences French\n",
        "target_token_index"
      ],
      "execution_count": 12,
      "outputs": [
        {
          "output_type": "execute_result",
          "data": {
            "text/plain": [
              "{',': 1,\n",
              " '-': 2,\n",
              " '-ce': 3,\n",
              " '-elle': 4,\n",
              " '-il': 5,\n",
              " '-ils': 6,\n",
              " '.': 7,\n",
              " '?': 8,\n",
              " 'a': 9,\n",
              " 'agréable': 10,\n",
              " 'aimait': 11,\n",
              " 'aime': 12,\n",
              " 'aiment': 13,\n",
              " 'aiment-ils': 14,\n",
              " 'aimeraient': 15,\n",
              " 'aimez': 16,\n",
              " 'aimons': 17,\n",
              " 'aimé': 18,\n",
              " 'aimé.': 19,\n",
              " 'aimée': 20,\n",
              " 'aimés': 21,\n",
              " 'aller': 22,\n",
              " 'allez': 23,\n",
              " 'allions': 24,\n",
              " 'allons': 25,\n",
              " 'allé': 26,\n",
              " 'allée': 27,\n",
              " 'allés': 28,\n",
              " 'amusant': 29,\n",
              " 'anglais': 30,\n",
              " 'animal': 31,\n",
              " 'animaux': 32,\n",
              " 'août': 33,\n",
              " 'apprécié': 34,\n",
              " 'as-tu': 35,\n",
              " 'at': 36,\n",
              " 'au': 37,\n",
              " 'automne': 38,\n",
              " 'automobile': 39,\n",
              " 'aux': 40,\n",
              " 'avez': 41,\n",
              " 'avons': 42,\n",
              " 'avril': 43,\n",
              " 'banane': 44,\n",
              " 'bananes': 45,\n",
              " 'beau': 46,\n",
              " 'belle': 47,\n",
              " 'bien': 48,\n",
              " 'blanc': 49,\n",
              " 'blanche': 50,\n",
              " 'bleu': 51,\n",
              " 'bleue': 52,\n",
              " 'brillant': 53,\n",
              " 'brillante': 54,\n",
              " 'bénigne': 55,\n",
              " \"c'est\": 56,\n",
              " 'california': 57,\n",
              " 'californie': 58,\n",
              " 'calme': 59,\n",
              " 'camion': 60,\n",
              " 'ce': 61,\n",
              " 'cet': 62,\n",
              " 'cette': 63,\n",
              " 'chat': 64,\n",
              " 'chats': 65,\n",
              " 'chaud': 66,\n",
              " 'chaude': 67,\n",
              " 'chaux': 68,\n",
              " 'cher': 69,\n",
              " 'cheval': 70,\n",
              " 'chevaux': 71,\n",
              " 'chien': 72,\n",
              " 'chiens': 73,\n",
              " 'chine': 74,\n",
              " 'chinois': 75,\n",
              " 'citron': 76,\n",
              " 'citrons': 77,\n",
              " 'clémentes': 78,\n",
              " 'comme': 79,\n",
              " 'comment': 80,\n",
              " 'conduisait': 81,\n",
              " 'conduit': 82,\n",
              " 'conduite': 83,\n",
              " 'congélation': 84,\n",
              " 'cours': 85,\n",
              " 'cépage': 86,\n",
              " \"d'\": 87,\n",
              " 'dans': 88,\n",
              " 'de': 89,\n",
              " 'dernier': 90,\n",
              " 'dernière': 91,\n",
              " 'des': 92,\n",
              " 'difficile': 93,\n",
              " 'douce': 94,\n",
              " 'doux': 95,\n",
              " 'du': 96,\n",
              " 'durant': 97,\n",
              " 'décembre': 98,\n",
              " 'détend': 99,\n",
              " 'détendre': 100,\n",
              " 'détestait': 101,\n",
              " 'déteste': 102,\n",
              " 'détestez': 103,\n",
              " 'détestons': 104,\n",
              " 'eiffel': 105,\n",
              " 'elle': 106,\n",
              " 'en': 107,\n",
              " 'enneigé': 108,\n",
              " 'enneigée': 109,\n",
              " 'entre': 110,\n",
              " 'envisage': 111,\n",
              " 'envisagent': 112,\n",
              " 'es-tu': 113,\n",
              " 'espagnol': 114,\n",
              " 'est': 115,\n",
              " 'est-ce': 116,\n",
              " 'et': 117,\n",
              " 'etats-unis': 118,\n",
              " 'facile': 119,\n",
              " 'faire': 120,\n",
              " 'fait': 121,\n",
              " 'favori': 122,\n",
              " 'favoris': 123,\n",
              " 'football': 124,\n",
              " 'frais': 125,\n",
              " 'fraise': 126,\n",
              " 'fraises': 127,\n",
              " 'france': 128,\n",
              " 'français': 129,\n",
              " 'frisquet': 130,\n",
              " 'froid': 131,\n",
              " 'fruit': 132,\n",
              " 'fruits': 133,\n",
              " 'février': 134,\n",
              " 'gel': 135,\n",
              " 'gelé': 136,\n",
              " 'gelés': 137,\n",
              " 'glaciales': 138,\n",
              " 'grand': 139,\n",
              " 'grande': 140,\n",
              " 'grandes': 141,\n",
              " 'grands': 142,\n",
              " 'gros': 143,\n",
              " 'grosse': 144,\n",
              " 'grosses': 145,\n",
              " 'gèle': 146,\n",
              " 'généralement': 147,\n",
              " 'habituellement': 148,\n",
              " 'hiver': 149,\n",
              " 'humide': 150,\n",
              " 'i': 151,\n",
              " 'il': 152,\n",
              " 'ils': 153,\n",
              " 'inde': 154,\n",
              " 'intention': 155,\n",
              " \"j'aime\": 156,\n",
              " 'jamais': 157,\n",
              " 'janvier': 158,\n",
              " 'jaune': 159,\n",
              " 'je': 160,\n",
              " 'jersey': 161,\n",
              " 'juillet': 162,\n",
              " 'juin': 163,\n",
              " \"l'\": 164,\n",
              " \"l'animal\": 165,\n",
              " \"l'automne\": 166,\n",
              " \"l'automobile\": 167,\n",
              " \"l'oiseau\": 168,\n",
              " \"l'orange\": 169,\n",
              " \"l'ours\": 170,\n",
              " \"l'école\": 171,\n",
              " \"l'éléphant\": 172,\n",
              " \"l'épicerie\": 173,\n",
              " 'la': 174,\n",
              " 'lac': 175,\n",
              " 'lapin': 176,\n",
              " 'lapins': 177,\n",
              " 'le': 178,\n",
              " 'les': 179,\n",
              " 'leur': 180,\n",
              " 'leurs': 181,\n",
              " 'limes': 182,\n",
              " 'lion': 183,\n",
              " 'lions': 184,\n",
              " 'lui': 185,\n",
              " 'légère': 186,\n",
              " 'magnifique': 187,\n",
              " 'mai': 188,\n",
              " 'maillot': 189,\n",
              " 'mais': 190,\n",
              " 'mangue': 191,\n",
              " 'mangues': 192,\n",
              " 'manguiers': 193,\n",
              " 'mars': 194,\n",
              " 'merveilleux': 195,\n",
              " 'mes': 196,\n",
              " 'moindres': 197,\n",
              " 'moins': 198,\n",
              " 'mois': 199,\n",
              " 'mon': 200,\n",
              " 'monde': 201,\n",
              " 'moteur': 202,\n",
              " 'mouillé': 203,\n",
              " 'mouillée': 204,\n",
              " \"n'a\": 205,\n",
              " \"n'aimait\": 206,\n",
              " \"n'aime\": 207,\n",
              " \"n'aiment\": 208,\n",
              " \"n'aimez\": 209,\n",
              " \"n'aimons\": 210,\n",
              " \"n'est\": 211,\n",
              " \"n'êtes\": 212,\n",
              " 'ne': 213,\n",
              " 'neige': 214,\n",
              " 'neigeux': 215,\n",
              " 'new': 216,\n",
              " 'noir': 217,\n",
              " 'noire': 218,\n",
              " 'nos': 219,\n",
              " 'notre': 220,\n",
              " 'nous': 221,\n",
              " 'nouveau': 222,\n",
              " 'nouvelle': 223,\n",
              " 'novembre': 224,\n",
              " 'occupé': 225,\n",
              " 'occupée': 226,\n",
              " 'octobre': 227,\n",
              " 'oiseau': 228,\n",
              " 'oiseaux': 229,\n",
              " 'ont': 230,\n",
              " 'oranges': 231,\n",
              " 'ours': 232,\n",
              " 'où': 233,\n",
              " 'pamplemousse': 234,\n",
              " 'pamplemousses': 235,\n",
              " 'parfois': 236,\n",
              " 'paris': 237,\n",
              " 'pas': 238,\n",
              " 'pendant': 239,\n",
              " 'pense': 240,\n",
              " 'pensez': 241,\n",
              " 'petit': 242,\n",
              " 'petite': 243,\n",
              " 'petites': 244,\n",
              " 'petits': 245,\n",
              " 'peu': 246,\n",
              " 'plaît': 247,\n",
              " 'pleut': 248,\n",
              " 'pluie': 249,\n",
              " 'pluies': 250,\n",
              " 'plus': 251,\n",
              " 'pluvieux': 252,\n",
              " 'poire': 253,\n",
              " 'poires': 254,\n",
              " 'pomme': 255,\n",
              " 'pommes': 256,\n",
              " 'porcelaine': 257,\n",
              " 'portugais': 258,\n",
              " 'pourquoi': 259,\n",
              " 'pourraient': 260,\n",
              " 'pourrait': 261,\n",
              " 'pousse': 262,\n",
              " 'printemps': 263,\n",
              " 'prochain': 264,\n",
              " 'proches': 265,\n",
              " 'préféré': 266,\n",
              " 'préféré.': 267,\n",
              " 'préférée': 268,\n",
              " 'préférées': 269,\n",
              " 'préférés': 270,\n",
              " 'prévoient': 271,\n",
              " 'prévois': 272,\n",
              " 'prévoit': 273,\n",
              " 'prévoyons': 274,\n",
              " 'pêche': 275,\n",
              " 'pêches': 276,\n",
              " \"qu'elle\": 277,\n",
              " \"qu'il\": 278,\n",
              " 'quand': 279,\n",
              " 'que': 280,\n",
              " 'qui': 281,\n",
              " 'raisin': 282,\n",
              " 'raisins': 283,\n",
              " 'redouté': 284,\n",
              " 'redoutée': 285,\n",
              " 'redoutés': 286,\n",
              " 'relaxant': 287,\n",
              " 'rendre': 288,\n",
              " 'requin': 289,\n",
              " 'requins': 290,\n",
              " 'ressort': 291,\n",
              " 'rouge': 292,\n",
              " 'rouille': 293,\n",
              " 'rouillé': 294,\n",
              " 'rouillée': 295,\n",
              " 'se': 296,\n",
              " 'sec': 297,\n",
              " 'septembre': 298,\n",
              " 'serpent': 299,\n",
              " 'serpents': 300,\n",
              " 'ses': 301,\n",
              " 'singe': 302,\n",
              " 'singes': 303,\n",
              " 'son': 304,\n",
              " 'sont': 305,\n",
              " 'souris': 306,\n",
              " 'souvent': 307,\n",
              " 'sur': 308,\n",
              " 'sèche': 309,\n",
              " 't': 310,\n",
              " 'temps': 311,\n",
              " 'terrain': 312,\n",
              " 'tour': 313,\n",
              " 'tout': 314,\n",
              " 'traduction': 315,\n",
              " 'traduire': 316,\n",
              " 'traduis': 317,\n",
              " 'tranquille': 318,\n",
              " 'trop': 319,\n",
              " 'trouvé': 320,\n",
              " 'un': 321,\n",
              " 'une': 322,\n",
              " 'va': 323,\n",
              " 'vais': 324,\n",
              " 'vers': 325,\n",
              " 'vert': 326,\n",
              " 'verte': 327,\n",
              " 'verts': 328,\n",
              " 'veulent': 329,\n",
              " 'veut': 330,\n",
              " 'vieille': 331,\n",
              " 'vieux': 332,\n",
              " 'visite': 333,\n",
              " 'visiter': 334,\n",
              " 'vit': 335,\n",
              " 'voiture': 336,\n",
              " 'volant': 337,\n",
              " 'vont': 338,\n",
              " 'vos': 339,\n",
              " 'votre': 340,\n",
              " 'voudrait': 341,\n",
              " 'voulaient': 342,\n",
              " 'voulait': 343,\n",
              " 'voulez': 344,\n",
              " 'vous': 345,\n",
              " 'vu': 346,\n",
              " 'États-unis': 347,\n",
              " 'à': 348,\n",
              " 'éléphant': 349,\n",
              " 'éléphants': 350,\n",
              " 'étaient': 351,\n",
              " 'était': 352,\n",
              " 'états-unis': 353,\n",
              " 'été': 354,\n",
              " 'êtes-vous': 355}"
            ]
          },
          "metadata": {
            "tags": []
          },
          "execution_count": 12
        }
      ]
    },
    {
      "cell_type": "code",
      "metadata": {
        "id": "96-7OL3dAoTJ",
        "colab_type": "code",
        "colab": {}
      },
      "source": [
        "\n",
        "reverse_input_char_index = dict((i, word) for word, i in input_token_index.items())\n",
        "reverse_target_char_index = dict((i, word) for word, i in target_token_index.items())"
      ],
      "execution_count": 0,
      "outputs": []
    },
    {
      "cell_type": "code",
      "metadata": {
        "id": "o9hXENXBhBTe",
        "colab_type": "code",
        "outputId": "c447381d-66fe-4052-c58c-2bb62b82ca5c",
        "colab": {
          "base_uri": "https://localhost:8080/",
          "height": 204
        }
      },
      "source": [
        "from sklearn.utils import shuffle\n",
        "data = shuffle(data)\n",
        "data.head()"
      ],
      "execution_count": 14,
      "outputs": [
        {
          "output_type": "execute_result",
          "data": {
            "text/html": [
              "<div>\n",
              "<style scoped>\n",
              "    .dataframe tbody tr th:only-of-type {\n",
              "        vertical-align: middle;\n",
              "    }\n",
              "\n",
              "    .dataframe tbody tr th {\n",
              "        vertical-align: top;\n",
              "    }\n",
              "\n",
              "    .dataframe thead th {\n",
              "        text-align: right;\n",
              "    }\n",
              "</style>\n",
              "<table border=\"1\" class=\"dataframe\">\n",
              "  <thead>\n",
              "    <tr style=\"text-align: right;\">\n",
              "      <th></th>\n",
              "      <th>English</th>\n",
              "      <th>french</th>\n",
              "    </tr>\n",
              "  </thead>\n",
              "  <tbody>\n",
              "    <tr>\n",
              "      <th>13118</th>\n",
              "      <td>paris is usually chilly during winter , but it...</td>\n",
              "      <td>paris est généralement froid pendant l' hiver ...</td>\n",
              "    </tr>\n",
              "    <tr>\n",
              "      <th>84784</th>\n",
              "      <td>china is sometimes cold during january , and i...</td>\n",
              "      <td>chine est parfois froid en janvier , et il ple...</td>\n",
              "    </tr>\n",
              "    <tr>\n",
              "      <th>53341</th>\n",
              "      <td>india is usually cold during october , but it ...</td>\n",
              "      <td>l' inde est généralement froid en octobre , ma...</td>\n",
              "    </tr>\n",
              "    <tr>\n",
              "      <th>79955</th>\n",
              "      <td>california is wet during autumn , but it is so...</td>\n",
              "      <td>californie est humide à l'automne , mais il es...</td>\n",
              "    </tr>\n",
              "    <tr>\n",
              "      <th>55502</th>\n",
              "      <td>they dislike strawberries , limes , and pears .</td>\n",
              "      <td>ils n'aiment les fraises , citrons verts , et ...</td>\n",
              "    </tr>\n",
              "  </tbody>\n",
              "</table>\n",
              "</div>"
            ],
            "text/plain": [
              "                                                 English                                             french\n",
              "13118  paris is usually chilly during winter , but it...  paris est généralement froid pendant l' hiver ...\n",
              "84784  china is sometimes cold during january , and i...  chine est parfois froid en janvier , et il ple...\n",
              "53341  india is usually cold during october , but it ...  l' inde est généralement froid en octobre , ma...\n",
              "79955  california is wet during autumn , but it is so...  californie est humide à l'automne , mais il es...\n",
              "55502    they dislike strawberries , limes , and pears .  ils n'aiment les fraises , citrons verts , et ..."
            ]
          },
          "metadata": {
            "tags": []
          },
          "execution_count": 14
        }
      ]
    },
    {
      "cell_type": "code",
      "metadata": {
        "id": "h5Wuj1cAhBXx",
        "colab_type": "code",
        "outputId": "65e33519-51f5-4d72-c41c-a4f802ccadce",
        "colab": {
          "base_uri": "https://localhost:8080/",
          "height": 34
        }
      },
      "source": [
        "# Train - Test Split\n",
        "from sklearn.model_selection import train_test_split\n",
        "X, y = data.English, data.french\n",
        "X_train, X_test, y_train, y_test = train_test_split(X, y, test_size = 0.1)\n",
        "X_train.shape, X_test.shape"
      ],
      "execution_count": 43,
      "outputs": [
        {
          "output_type": "execute_result",
          "data": {
            "text/plain": [
              "((124074,), (13786,))"
            ]
          },
          "metadata": {
            "tags": []
          },
          "execution_count": 43
        }
      ]
    },
    {
      "cell_type": "code",
      "metadata": {
        "id": "QWCmkE25lFYV",
        "colab_type": "code",
        "colab": {}
      },
      "source": [
        "def generate_batch(X=X_train, y=y_train, batch_size=1000):\n",
        "    while True:\n",
        "      # in every batch we are sending (batch_size) of sentences\n",
        "        for j in range(0, len(X), batch_size):\n",
        "            encoder_input_data = np.zeros((batch_size, max_length_src),\n",
        "                    dtype='float32')\n",
        "            decoder_input_data = np.zeros((batch_size, max_length_tar),\n",
        "                    dtype='float32')\n",
        "            decoder_target_data = np.zeros((batch_size, max_length_tar,\n",
        "                    num_decoder_tokens), dtype='float32')\n",
        "\n",
        "            # for all the sentences in the batch\n",
        "            for (i, (input_text, target_text)) in enumerate(zip(X[j:j\n",
        "                    + batch_size], y[j:j + batch_size])):\n",
        "\n",
        "                # for words in each sentence //English\n",
        "                for (t, word) in enumerate(input_text.split()):  # English wale text ko tokenize kiya gaya\n",
        "                    encoder_input_data[i] = input_token_index[word]  # encoder input seq\n",
        "\n",
        "                # for each word in French Sentence\n",
        "                for (t, word) in enumerate(target_text.split()):  # t is the length of the sentence\n",
        "                    if t < len(target_text.split()):\n",
        "                        decoder_input_data[i] = target_token_index[word]  # decoder input seq\n",
        "                    if t > 0:\n",
        "                        #one-hot encoding \n",
        "                        #and making it to the output shape from decoder\n",
        "                        decoder_target_data[i, t - 1,\n",
        "                                target_token_index[word]] = 1.\n",
        "                                                       \n",
        "            yield ([encoder_input_data, decoder_input_data],\n",
        "                   decoder_target_data)  # this will help multiple return// like closure in swift\n"
      ],
      "execution_count": 0,
      "outputs": []
    },
    {
      "cell_type": "code",
      "metadata": {
        "id": "ijxN0OWAzJ7X",
        "colab_type": "code",
        "colab": {}
      },
      "source": [
        ""
      ],
      "execution_count": 0,
      "outputs": []
    },
    {
      "cell_type": "code",
      "metadata": {
        "id": "agN3uPx8hJT7",
        "colab_type": "code",
        "outputId": "16ca46ca-2ee3-4cf2-fb1c-1f1ea60bd66d",
        "colab": {
          "base_uri": "https://localhost:8080/",
          "height": 233
        }
      },
      "source": [
        "from keras.layers import Dense, Dropout, Embedding, LSTM, Bidirectional,CuDNNLSTM,Concatenate\n",
        "from keras.layers import Input, LSTM, Embedding, Dense\n",
        "from keras.models import Model\n",
        "# Encoder\n",
        "latent_dim = 64 # how much dimension of output we want form the embedding layer\n",
        "encoder_inputs = Input(shape=(None,)) # mentioning the input shape row and collumns are still null\n",
        "\n",
        "# **num_encoder_tokens** vocabulary size we are having\n",
        "enc_emb =  Embedding(num_encoder_tokens, latent_dim, mask_zero = True)(encoder_inputs) #Embedding layer # this layer will make it 3D\n",
        "\n",
        "#training the LSTM on encoder\n",
        "# encoder_lstm = LSTM(latent_dim, return_state=True)\n",
        "lstm, forward_h, forward_c, backward_h, backward_c = Bidirectional(LSTM(128, return_sequences=True, return_state=True))(enc_emb)\n",
        "state_h = Concatenate()([forward_h, backward_h])\n",
        "state_c = Concatenate()([forward_c, backward_c])\n",
        "# encoder_outputs, state_h, state_c = encoder_lstm(enc_emb) #output\n",
        "\n",
        "\n",
        "encoder_states = [state_h, state_c] #output and the cell state"
      ],
      "execution_count": 17,
      "outputs": [
        {
          "output_type": "stream",
          "text": [
            "Using TensorFlow backend.\n"
          ],
          "name": "stderr"
        },
        {
          "output_type": "display_data",
          "data": {
            "text/html": [
              "<p style=\"color: red;\">\n",
              "The default version of TensorFlow in Colab will soon switch to TensorFlow 2.x.<br>\n",
              "We recommend you <a href=\"https://www.tensorflow.org/guide/migrate\" target=\"_blank\">upgrade</a> now \n",
              "or ensure your notebook will continue to use TensorFlow 1.x via the <code>%tensorflow_version 1.x</code> magic:\n",
              "<a href=\"https://colab.research.google.com/notebooks/tensorflow_version.ipynb\" target=\"_blank\">more info</a>.</p>\n"
            ],
            "text/plain": [
              "<IPython.core.display.HTML object>"
            ]
          },
          "metadata": {
            "tags": []
          }
        },
        {
          "output_type": "stream",
          "text": [
            "WARNING:tensorflow:From /usr/local/lib/python3.6/dist-packages/keras/backend/tensorflow_backend.py:66: The name tf.get_default_graph is deprecated. Please use tf.compat.v1.get_default_graph instead.\n",
            "\n",
            "WARNING:tensorflow:From /usr/local/lib/python3.6/dist-packages/keras/backend/tensorflow_backend.py:541: The name tf.placeholder is deprecated. Please use tf.compat.v1.placeholder instead.\n",
            "\n",
            "WARNING:tensorflow:From /usr/local/lib/python3.6/dist-packages/keras/backend/tensorflow_backend.py:4432: The name tf.random_uniform is deprecated. Please use tf.random.uniform instead.\n",
            "\n",
            "WARNING:tensorflow:From /usr/local/lib/python3.6/dist-packages/keras/backend/tensorflow_backend.py:3239: where (from tensorflow.python.ops.array_ops) is deprecated and will be removed in a future version.\n",
            "Instructions for updating:\n",
            "Use tf.where in 2.0, which has the same broadcast rule as np.where\n"
          ],
          "name": "stdout"
        }
      ]
    },
    {
      "cell_type": "code",
      "metadata": {
        "id": "72FkFUHOh-Kf",
        "colab_type": "code",
        "colab": {}
      },
      "source": [
        "\n",
        "#  Set up the decoder, using `encoder_states` as initial state.\n",
        "decoder_inputs = Input(shape=(None,)) #french's input\n",
        "dec_emb_layer = Embedding(num_decoder_tokens, latent_dim, mask_zero = True) \n",
        "dec_emb = dec_emb_layer(decoder_inputs) # french sikhaye hum Embedding layer ko\n",
        "\n",
        "\n",
        "# We set up our decoder to return full output sequences,\n",
        "# and to return internal states as well. We don't use the\n",
        "# return states in the training model, but we will use them in inference.\n",
        "\n",
        "\n",
        "decoder_lstm = LSTM(256, return_sequences=True, return_state=True)\n",
        "decoder_outputs, _, _ = decoder_lstm(dec_emb,initial_state=encoder_states)\n",
        "\n",
        "decoder_dense = Dense(num_decoder_tokens, activation='softmax')\n",
        "decoder_outputs = decoder_dense(decoder_outputs)\n",
        "\n",
        "# Define the model that will turn\n",
        "# `encoder_input_data` & `decoder_input_data` into `decoder_target_data`\n",
        "model = Model([encoder_inputs, decoder_inputs], decoder_outputs)"
      ],
      "execution_count": 0,
      "outputs": []
    },
    {
      "cell_type": "code",
      "metadata": {
        "id": "Yf_PYG_th-T9",
        "colab_type": "code",
        "outputId": "2d0faed8-f482-4a5c-effc-05abd809e0f5",
        "colab": {
          "base_uri": "https://localhost:8080/",
          "height": 85
        }
      },
      "source": [
        "model.compile(optimizer='adam', loss='categorical_crossentropy', metrics=['acc'])"
      ],
      "execution_count": 19,
      "outputs": [
        {
          "output_type": "stream",
          "text": [
            "WARNING:tensorflow:From /usr/local/lib/python3.6/dist-packages/keras/optimizers.py:793: The name tf.train.Optimizer is deprecated. Please use tf.compat.v1.train.Optimizer instead.\n",
            "\n",
            "WARNING:tensorflow:From /usr/local/lib/python3.6/dist-packages/keras/backend/tensorflow_backend.py:3576: The name tf.log is deprecated. Please use tf.math.log instead.\n",
            "\n"
          ],
          "name": "stdout"
        }
      ]
    },
    {
      "cell_type": "code",
      "metadata": {
        "id": "G4WsxOpo79bC",
        "colab_type": "code",
        "outputId": "fa945ea4-948b-400a-a19f-fde7ea91b135",
        "colab": {
          "base_uri": "https://localhost:8080/",
          "height": 544
        }
      },
      "source": [
        "print(model.summary())"
      ],
      "execution_count": 20,
      "outputs": [
        {
          "output_type": "stream",
          "text": [
            "Model: \"model_1\"\n",
            "__________________________________________________________________________________________________\n",
            "Layer (type)                    Output Shape         Param #     Connected to                     \n",
            "==================================================================================================\n",
            "input_1 (InputLayer)            (None, None)         0                                            \n",
            "__________________________________________________________________________________________________\n",
            "embedding_1 (Embedding)         (None, None, 64)     14592       input_1[0][0]                    \n",
            "__________________________________________________________________________________________________\n",
            "input_2 (InputLayer)            (None, None)         0                                            \n",
            "__________________________________________________________________________________________________\n",
            "bidirectional_1 (Bidirectional) [(None, None, 256),  197632      embedding_1[0][0]                \n",
            "__________________________________________________________________________________________________\n",
            "embedding_2 (Embedding)         (None, None, 64)     22784       input_2[0][0]                    \n",
            "__________________________________________________________________________________________________\n",
            "concatenate_1 (Concatenate)     (None, 256)          0           bidirectional_1[0][1]            \n",
            "                                                                 bidirectional_1[0][3]            \n",
            "__________________________________________________________________________________________________\n",
            "concatenate_2 (Concatenate)     (None, 256)          0           bidirectional_1[0][2]            \n",
            "                                                                 bidirectional_1[0][4]            \n",
            "__________________________________________________________________________________________________\n",
            "lstm_2 (LSTM)                   [(None, None, 256),  328704      embedding_2[0][0]                \n",
            "                                                                 concatenate_1[0][0]              \n",
            "                                                                 concatenate_2[0][0]              \n",
            "__________________________________________________________________________________________________\n",
            "dense_1 (Dense)                 (None, None, 356)    91492       lstm_2[0][0]                     \n",
            "==================================================================================================\n",
            "Total params: 655,204\n",
            "Trainable params: 655,204\n",
            "Non-trainable params: 0\n",
            "__________________________________________________________________________________________________\n",
            "None\n"
          ],
          "name": "stdout"
        }
      ]
    },
    {
      "cell_type": "code",
      "metadata": {
        "id": "dVXgCsmaCuBN",
        "colab_type": "code",
        "outputId": "c3d2e634-d9b3-412c-c338-1d0934928f5c",
        "colab": {
          "base_uri": "https://localhost:8080/",
          "height": 564
        }
      },
      "source": [
        "from keras.utils import plot_model\n",
        "plot_model(model, to_file='multilayer_perceptron_graph.png')"
      ],
      "execution_count": 21,
      "outputs": [
        {
          "output_type": "execute_result",
          "data": {
            "image/png": "[encoded data removed]",
            "text/plain": [
              "<IPython.core.display.Image object>"
            ]
          },
          "metadata": {
            "tags": []
          },
          "execution_count": 21
        }
      ]
    },
    {
      "cell_type": "code",
      "metadata": {
        "id": "65tH24NPh-ZQ",
        "colab_type": "code",
        "colab": {
          "base_uri": "https://localhost:8080/",
          "height": 68
        },
        "outputId": "934327fe-aff3-4935-9385-8e9ccca7d6e0"
      },
      "source": [
        "import numpy as np\n",
        "model.fit_generator(generator = generate_batch(X_train, y_train, batch_size = 100),\n",
        "                    steps_per_epoch = 5000,\n",
        "                    epochs=1,\n",
        "                    validation_data = generate_batch(X_test, y_test, batch_size = 100),\n",
        "                    validation_steps = 5000 \n",
        "                    )"
      ],
      "execution_count": 44,
      "outputs": [
        {
          "output_type": "stream",
          "text": [
            "Epoch 1/1\n",
            "5000/5000 [==============================] - 866s 173ms/step - loss: 1.7789 - acc: 0.1475 - val_loss: 1.7693 - val_acc: 0.1501\n"
          ],
          "name": "stdout"
        },
        {
          "output_type": "execute_result",
          "data": {
            "text/plain": [
              "<keras.callbacks.History at 0x7f4217d127f0>"
            ]
          },
          "metadata": {
            "tags": []
          },
          "execution_count": 44
        }
      ]
    },
    {
      "cell_type": "code",
      "metadata": {
        "id": "AFmLPDqi2l2C",
        "colab_type": "code",
        "colab": {}
      },
      "source": [
        "model.save_weights('nmt_weights.h5')"
      ],
      "execution_count": 0,
      "outputs": []
    },
    {
      "cell_type": "code",
      "metadata": {
        "id": "viJvpED25m6s",
        "colab_type": "code",
        "colab": {}
      },
      "source": [
        "model.load_weights('nmt_weights.h5')"
      ],
      "execution_count": 0,
      "outputs": []
    },
    {
      "cell_type": "markdown",
      "metadata": {
        "id": "V-RL4UnnNrOD",
        "colab_type": "text"
      },
      "source": [
        "___"
      ]
    },
    {
      "cell_type": "code",
      "metadata": {
        "id": "lD9qWnX3sfKc",
        "colab_type": "code",
        "colab": {}
      },
      "source": [
        "#Making new model so that we can predict the output\n",
        "# taking all input and output of the encoder from the previous model to here\n",
        "    #encoder_inputs: It's the tokenized and padded words from the english\n",
        "encoder_model = Model(encoder_inputs, encoder_states) \n",
        "\n",
        "#giving input to decoder\n",
        "decoder_state_input_h = Input(shape=(256,)) # this will be the input form the encoders # cz 256 is from the encoder after concatination \n",
        "decoder_state_input_c = Input(shape=(256,)) #cell state after the encoder\n",
        "\n",
        "decoder_states_inputs = [decoder_state_input_h, decoder_state_input_c]\n",
        "\n",
        "#french words tokenized\n",
        "dec_emb2= dec_emb_layer(decoder_inputs) #Get the embeddings of the decoder sequence\n",
        "\n",
        "#decoder ka output and cell state nikal liya \n",
        "    # decoder_lstm = LSTM(256, return_sequences=True, return_state=True)\n",
        "        # here dec_emb2 we passed the output from the embedding later which for trained on tokenized sentensed of french words\n",
        "decoder_outputs, state_h2, state_c2 = decoder_lstm(dec_emb2, initial_state=decoder_states_inputs)\n",
        "\n",
        "#added both states from the decoder \n",
        "decoder_states = [state_h2, state_c2]  \n",
        "\n",
        "# Passing the output from the decoder model to the dense layer\n",
        "decoder_output_dense = decoder_dense(decoder_outputs)\n",
        "\n",
        "# Final decoder model\n",
        "# decoder_inputs : Embedding layer ko french sentence tokenizer\n",
        "# decoder_states_inputs : this is from the encoder\n",
        "# decoder_outputs2 : #ye decoder ka output he //predicted values from the decoder not the cellstate or output(h)\n",
        "# decoder_states2 : #ye output(h) & cell state h \n",
        "\n",
        "\n",
        "decoder_model = Model(\n",
        "    [decoder_inputs] + decoder_states_inputs,\n",
        "    [decoder_output_dense] + decoder_states)\n",
        "\n",
        "\n",
        "\n"
      ],
      "execution_count": 0,
      "outputs": []
    },
    {
      "cell_type": "code",
      "metadata": {
        "id": "pBVnsk5sMxHC",
        "colab_type": "code",
        "colab": {
          "base_uri": "https://localhost:8080/",
          "height": 408
        },
        "outputId": "9f50cb22-dd3f-4340-c204-ed40f84bf835"
      },
      "source": [
        "print(decoder_model.summary())"
      ],
      "execution_count": 40,
      "outputs": [
        {
          "output_type": "stream",
          "text": [
            "Model: \"model_5\"\n",
            "__________________________________________________________________________________________________\n",
            "Layer (type)                    Output Shape         Param #     Connected to                     \n",
            "==================================================================================================\n",
            "input_2 (InputLayer)            (None, None)         0                                            \n",
            "__________________________________________________________________________________________________\n",
            "embedding_2 (Embedding)         (None, None, 64)     22784       input_2[0][0]                    \n",
            "__________________________________________________________________________________________________\n",
            "input_5 (InputLayer)            (None, 256)          0                                            \n",
            "__________________________________________________________________________________________________\n",
            "input_6 (InputLayer)            (None, 256)          0                                            \n",
            "__________________________________________________________________________________________________\n",
            "lstm_2 (LSTM)                   [(None, None, 256),  328704      embedding_2[2][0]                \n",
            "                                                                 input_5[0][0]                    \n",
            "                                                                 input_6[0][0]                    \n",
            "__________________________________________________________________________________________________\n",
            "dense_1 (Dense)                 (None, None, 356)    91492       lstm_2[2][0]                     \n",
            "==================================================================================================\n",
            "Total params: 442,980\n",
            "Trainable params: 442,980\n",
            "Non-trainable params: 0\n",
            "__________________________________________________________________________________________________\n",
            "None\n"
          ],
          "name": "stdout"
        }
      ]
    },
    {
      "cell_type": "code",
      "metadata": {
        "id": "Fem9VtvA5IDh",
        "colab_type": "code",
        "outputId": "55891c23-7a8a-4732-b1f8-558ebb60a38f",
        "colab": {
          "base_uri": "https://localhost:8080/",
          "height": 369
        }
      },
      "source": [
        "from keras.utils import plot_model\n",
        "plot_model(decoder_model, to_file='multilayer_perceptron_graph.png')"
      ],
      "execution_count": 39,
      "outputs": [
        {
          "output_type": "execute_result",
          "data": {
            "image/png": "[encoded data removed]",
            "text/plain": [
              "<IPython.core.display.Image object>"
            ]
          },
          "metadata": {
            "tags": []
          },
          "execution_count": 39
        }
      ]
    },
    {
      "cell_type": "code",
      "metadata": {
        "id": "h2-XqWuJ5QtU",
        "colab_type": "code",
        "colab": {}
      },
      "source": [
        "def decode_sequence(input_seq): \n",
        "    # Encode the input as state vectors.\n",
        "    states_value = encoder_model.predict(input_seq)\n",
        "    # Generate empty target sequence of length 1.\n",
        "    target_seq = np.zeros((1,1))\n",
        "    # Populate the first character of target sequence with the start character.\n",
        "    print(target_token_index)\n",
        "    # target_seq[0, 0] = target_token_index['Start_']\n",
        "\n",
        "    # Sampling loop for a batch of sequences\n",
        "    # (to simplify, here we assume a batch of size 1).\n",
        "    stop_condition = False\n",
        "    decoded_sentence = ''\n",
        "    while not stop_condition:\n",
        "        output_tokens, h, c = decoder_model.predict([target_seq] + states_value)\n",
        "\n",
        "        # Sample a token\n",
        "        sampled_token_index = np.argmax(output_tokens[0, -1, :])\n",
        "        sampled_char = reverse_target_char_index[sampled_token_index]\n",
        "        decoded_sentence += ' '+sampled_char\n",
        "\n",
        "        # Exit condition: either hit max length\n",
        "        # or find stop character.\n",
        "        if (sampled_char == '_End' or\n",
        "           len(decoded_sentence) > 50):\n",
        "            stop_condition = True\n",
        "\n",
        "        # Update the target sequence (of length 1).\n",
        "        target_seq = np.zeros((1,1))\n",
        "        target_seq[0, 0] = sampled_token_index\n",
        "\n",
        "        # Update states\n",
        "        states_value = [h, c]\n",
        "\n",
        "    return decoded_sentence"
      ],
      "execution_count": 0,
      "outputs": []
    },
    {
      "cell_type": "code",
      "metadata": {
        "id": "LzmrXlw86BIn",
        "colab_type": "code",
        "colab": {}
      },
      "source": [
        "train_gen = generate_batch(X_train, y_train, batch_size = 1)\n",
        "k=-1"
      ],
      "execution_count": 0,
      "outputs": []
    },
    {
      "cell_type": "code",
      "metadata": {
        "id": "n-MGTcgJ61Fq",
        "colab_type": "code",
        "colab": {}
      },
      "source": [
        "X_train = 'Start_' + X_train + '_End'\n",
        "X_test = 'Start_' + X_test + '_End'"
      ],
      "execution_count": 0,
      "outputs": []
    },
    {
      "cell_type": "code",
      "metadata": {
        "id": "fdCAnUDt-HLr",
        "colab_type": "code",
        "outputId": "d68c630a-6d92-436a-934a-3682a43102d2",
        "colab": {
          "base_uri": "https://localhost:8080/",
          "height": 119
        }
      },
      "source": [
        "X_train.head()"
      ],
      "execution_count": 30,
      "outputs": [
        {
          "output_type": "execute_result",
          "data": {
            "text/plain": [
              "93514     Start_he likes grapefruit , limes , and apples...\n",
              "75276        Start_he dislikes grapes and strawberries._End\n",
              "40950     Start_france is never hot during august , and ...\n",
              "15841     Start_you dislike grapefruit , oranges , and l...\n",
              "103418    Start_the lemon is their favorite fruit , but ...\n",
              "Name: English, dtype: object"
            ]
          },
          "metadata": {
            "tags": []
          },
          "execution_count": 30
        }
      ]
    },
    {
      "cell_type": "code",
      "metadata": {
        "id": "piOeKWLf6HTf",
        "colab_type": "code",
        "colab": {}
      },
      "source": [
        "\n",
        "(input_seq, actual_output), _ = next(train_gen)"
      ],
      "execution_count": 0,
      "outputs": []
    },
    {
      "cell_type": "code",
      "metadata": {
        "id": "UNSilF4J_AaH",
        "colab_type": "code",
        "colab": {
          "base_uri": "https://localhost:8080/",
          "height": 51
        },
        "outputId": "f91c08fe-687c-4668-9321-08e2cbedb57a"
      },
      "source": [
        "k+=2\n",
        "X_train[k:k+1]"
      ],
      "execution_count": 35,
      "outputs": [
        {
          "output_type": "execute_result",
          "data": {
            "text/plain": [
              "40950    Start_france is never hot during august , and ...\n",
              "Name: English, dtype: object"
            ]
          },
          "metadata": {
            "tags": []
          },
          "execution_count": 35
        }
      ]
    },
    {
      "cell_type": "code",
      "metadata": {
        "id": "YdAYuoeT6Jbf",
        "colab_type": "code",
        "outputId": "875e7a22-f6e4-4c5f-a4f8-30952b44b63a",
        "colab": {
          "base_uri": "https://localhost:8080/",
          "height": 105
        }
      },
      "source": [
        "decoded_sentence = decode_sequence(input_seq)\n",
        "print('Input English sentence:', X_train[k:k+1].values[0])\n",
        "print('Actual Marathi Translation:', y_train[k:k+1].values[0][3:-4])\n",
        "print('Predicted Marathi Translation:', decoded_sentence[:-4])"
      ],
      "execution_count": 36,
      "outputs": [
        {
          "output_type": "stream",
          "text": [
            "{',': 1, '-': 2, '-ce': 3, '-elle': 4, '-il': 5, '-ils': 6, '.': 7, '?': 8, 'a': 9, 'agréable': 10, 'aimait': 11, 'aime': 12, 'aiment': 13, 'aiment-ils': 14, 'aimeraient': 15, 'aimez': 16, 'aimons': 17, 'aimé': 18, 'aimé.': 19, 'aimée': 20, 'aimés': 21, 'aller': 22, 'allez': 23, 'allions': 24, 'allons': 25, 'allé': 26, 'allée': 27, 'allés': 28, 'amusant': 29, 'anglais': 30, 'animal': 31, 'animaux': 32, 'août': 33, 'apprécié': 34, 'as-tu': 35, 'at': 36, 'au': 37, 'automne': 38, 'automobile': 39, 'aux': 40, 'avez': 41, 'avons': 42, 'avril': 43, 'banane': 44, 'bananes': 45, 'beau': 46, 'belle': 47, 'bien': 48, 'blanc': 49, 'blanche': 50, 'bleu': 51, 'bleue': 52, 'brillant': 53, 'brillante': 54, 'bénigne': 55, \"c'est\": 56, 'california': 57, 'californie': 58, 'calme': 59, 'camion': 60, 'ce': 61, 'cet': 62, 'cette': 63, 'chat': 64, 'chats': 65, 'chaud': 66, 'chaude': 67, 'chaux': 68, 'cher': 69, 'cheval': 70, 'chevaux': 71, 'chien': 72, 'chiens': 73, 'chine': 74, 'chinois': 75, 'citron': 76, 'citrons': 77, 'clémentes': 78, 'comme': 79, 'comment': 80, 'conduisait': 81, 'conduit': 82, 'conduite': 83, 'congélation': 84, 'cours': 85, 'cépage': 86, \"d'\": 87, 'dans': 88, 'de': 89, 'dernier': 90, 'dernière': 91, 'des': 92, 'difficile': 93, 'douce': 94, 'doux': 95, 'du': 96, 'durant': 97, 'décembre': 98, 'détend': 99, 'détendre': 100, 'détestait': 101, 'déteste': 102, 'détestez': 103, 'détestons': 104, 'eiffel': 105, 'elle': 106, 'en': 107, 'enneigé': 108, 'enneigée': 109, 'entre': 110, 'envisage': 111, 'envisagent': 112, 'es-tu': 113, 'espagnol': 114, 'est': 115, 'est-ce': 116, 'et': 117, 'etats-unis': 118, 'facile': 119, 'faire': 120, 'fait': 121, 'favori': 122, 'favoris': 123, 'football': 124, 'frais': 125, 'fraise': 126, 'fraises': 127, 'france': 128, 'français': 129, 'frisquet': 130, 'froid': 131, 'fruit': 132, 'fruits': 133, 'février': 134, 'gel': 135, 'gelé': 136, 'gelés': 137, 'glaciales': 138, 'grand': 139, 'grande': 140, 'grandes': 141, 'grands': 142, 'gros': 143, 'grosse': 144, 'grosses': 145, 'gèle': 146, 'généralement': 147, 'habituellement': 148, 'hiver': 149, 'humide': 150, 'i': 151, 'il': 152, 'ils': 153, 'inde': 154, 'intention': 155, \"j'aime\": 156, 'jamais': 157, 'janvier': 158, 'jaune': 159, 'je': 160, 'jersey': 161, 'juillet': 162, 'juin': 163, \"l'\": 164, \"l'animal\": 165, \"l'automne\": 166, \"l'automobile\": 167, \"l'oiseau\": 168, \"l'orange\": 169, \"l'ours\": 170, \"l'école\": 171, \"l'éléphant\": 172, \"l'épicerie\": 173, 'la': 174, 'lac': 175, 'lapin': 176, 'lapins': 177, 'le': 178, 'les': 179, 'leur': 180, 'leurs': 181, 'limes': 182, 'lion': 183, 'lions': 184, 'lui': 185, 'légère': 186, 'magnifique': 187, 'mai': 188, 'maillot': 189, 'mais': 190, 'mangue': 191, 'mangues': 192, 'manguiers': 193, 'mars': 194, 'merveilleux': 195, 'mes': 196, 'moindres': 197, 'moins': 198, 'mois': 199, 'mon': 200, 'monde': 201, 'moteur': 202, 'mouillé': 203, 'mouillée': 204, \"n'a\": 205, \"n'aimait\": 206, \"n'aime\": 207, \"n'aiment\": 208, \"n'aimez\": 209, \"n'aimons\": 210, \"n'est\": 211, \"n'êtes\": 212, 'ne': 213, 'neige': 214, 'neigeux': 215, 'new': 216, 'noir': 217, 'noire': 218, 'nos': 219, 'notre': 220, 'nous': 221, 'nouveau': 222, 'nouvelle': 223, 'novembre': 224, 'occupé': 225, 'occupée': 226, 'octobre': 227, 'oiseau': 228, 'oiseaux': 229, 'ont': 230, 'oranges': 231, 'ours': 232, 'où': 233, 'pamplemousse': 234, 'pamplemousses': 235, 'parfois': 236, 'paris': 237, 'pas': 238, 'pendant': 239, 'pense': 240, 'pensez': 241, 'petit': 242, 'petite': 243, 'petites': 244, 'petits': 245, 'peu': 246, 'plaît': 247, 'pleut': 248, 'pluie': 249, 'pluies': 250, 'plus': 251, 'pluvieux': 252, 'poire': 253, 'poires': 254, 'pomme': 255, 'pommes': 256, 'porcelaine': 257, 'portugais': 258, 'pourquoi': 259, 'pourraient': 260, 'pourrait': 261, 'pousse': 262, 'printemps': 263, 'prochain': 264, 'proches': 265, 'préféré': 266, 'préféré.': 267, 'préférée': 268, 'préférées': 269, 'préférés': 270, 'prévoient': 271, 'prévois': 272, 'prévoit': 273, 'prévoyons': 274, 'pêche': 275, 'pêches': 276, \"qu'elle\": 277, \"qu'il\": 278, 'quand': 279, 'que': 280, 'qui': 281, 'raisin': 282, 'raisins': 283, 'redouté': 284, 'redoutée': 285, 'redoutés': 286, 'relaxant': 287, 'rendre': 288, 'requin': 289, 'requins': 290, 'ressort': 291, 'rouge': 292, 'rouille': 293, 'rouillé': 294, 'rouillée': 295, 'se': 296, 'sec': 297, 'septembre': 298, 'serpent': 299, 'serpents': 300, 'ses': 301, 'singe': 302, 'singes': 303, 'son': 304, 'sont': 305, 'souris': 306, 'souvent': 307, 'sur': 308, 'sèche': 309, 't': 310, 'temps': 311, 'terrain': 312, 'tour': 313, 'tout': 314, 'traduction': 315, 'traduire': 316, 'traduis': 317, 'tranquille': 318, 'trop': 319, 'trouvé': 320, 'un': 321, 'une': 322, 'va': 323, 'vais': 324, 'vers': 325, 'vert': 326, 'verte': 327, 'verts': 328, 'veulent': 329, 'veut': 330, 'vieille': 331, 'vieux': 332, 'visite': 333, 'visiter': 334, 'vit': 335, 'voiture': 336, 'volant': 337, 'vont': 338, 'vos': 339, 'votre': 340, 'voudrait': 341, 'voulaient': 342, 'voulait': 343, 'voulez': 344, 'vous': 345, 'vu': 346, 'États-unis': 347, 'à': 348, 'éléphant': 349, 'éléphants': 350, 'étaient': 351, 'était': 352, 'états-unis': 353, 'été': 354, 'êtes-vous': 355}\n",
            "Input English sentence: Start_france is never hot during august , and it is never nice in october ._End\n",
            "Actual Marathi Translation: france est jamais chaud au mois d' août , et il est jamais agréable en octob\n",
            "Predicted Marathi Translation:  ? est est parfois en en , , mais il est est en \n"
          ],
          "name": "stdout"
        }
      ]
    },
    {
      "cell_type": "code",
      "metadata": {
        "id": "ZzXmzNL7_1Ao",
        "colab_type": "code",
        "colab": {}
      },
      "source": [
        "decoded_sentence = decode_sequence(input_seq)\n",
        "print('Input English sentence:', X_train[k:k+1].values[0])\n",
        "print('Actual Marathi Translation:', y_train[k:k+1].values[0][6:-4])\n",
        "print('Predicted Marathi Translation:', decoded_sentence[:-4])"
      ],
      "execution_count": 0,
      "outputs": []
    }
  ]
}