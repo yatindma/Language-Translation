{
  "nbformat": 4,
  "nbformat_minor": 0,
  "metadata": {
    "colab": {
      "name": "English_To_French.ipynb",
      "provenance": [],
      "collapsed_sections": [],
      "machine_shape": "hm",
      "include_colab_link": true
    },
    "kernelspec": {
      "name": "python3",
      "display_name": "Python 3"
    },
    "accelerator": "GPU"
  },
  "cells": [
    {
      "cell_type": "markdown",
      "metadata": {
        "id": "view-in-github",
        "colab_type": "text"
      },
      "source": [
        "<a href=\"https://colab.research.google.com/github/yatindma/Language-Translator/blob/master/English_To_French.ipynb\" target=\"_parent\"><img src=\"https://colab.research.google.com/assets/colab-badge.svg\" alt=\"Open In Colab\"/></a>"
      ]
    },
    {
      "cell_type": "code",
      "metadata": {
        "id": "4vzGO0unC-WF",
        "colab_type": "code",
        "colab": {}
      },
      "source": [
        "import pickle\n",
        "import pandas as pd\n",
        "with open('data', 'rb') as f:\n",
        "  data = pickle.load(f)"
      ],
      "execution_count": 0,
      "outputs": []
    },
    {
      "cell_type": "code",
      "metadata": {
        "id": "wto19rprEr7M",
        "colab_type": "code",
        "outputId": "00c36b96-b677-4a3b-9422-08f9652496eb",
        "colab": {
          "base_uri": "https://localhost:8080/",
          "height": 111
        }
      },
      "source": [
        "data.head(2)\n"
      ],
      "execution_count": 140,
      "outputs": [
        {
          "output_type": "execute_result",
          "data": {
            "text/html": [
              "<div>\n",
              "<style scoped>\n",
              "    .dataframe tbody tr th:only-of-type {\n",
              "        vertical-align: middle;\n",
              "    }\n",
              "\n",
              "    .dataframe tbody tr th {\n",
              "        vertical-align: top;\n",
              "    }\n",
              "\n",
              "    .dataframe thead th {\n",
              "        text-align: right;\n",
              "    }\n",
              "</style>\n",
              "<table border=\"1\" class=\"dataframe\">\n",
              "  <thead>\n",
              "    <tr style=\"text-align: right;\">\n",
              "      <th></th>\n",
              "      <th>English</th>\n",
              "      <th>french</th>\n",
              "    </tr>\n",
              "  </thead>\n",
              "  <tbody>\n",
              "    <tr>\n",
              "      <th>0</th>\n",
              "      <td>new jersey is sometimes quiet during autumn , ...</td>\n",
              "      <td>new jersey est parfois calme pendant l' automn...</td>\n",
              "    </tr>\n",
              "    <tr>\n",
              "      <th>1</th>\n",
              "      <td>the united states is usually chilly during jul...</td>\n",
              "      <td>les états-unis est généralement froid en juill...</td>\n",
              "    </tr>\n",
              "  </tbody>\n",
              "</table>\n",
              "</div>"
            ],
            "text/plain": [
              "                                             English                                             french\n",
              "0  new jersey is sometimes quiet during autumn , ...  new jersey est parfois calme pendant l' automn...\n",
              "1  the united states is usually chilly during jul...  les états-unis est généralement froid en juill..."
            ]
          },
          "metadata": {
            "tags": []
          },
          "execution_count": 140
        }
      ]
    },
    {
      "cell_type": "code",
      "metadata": {
        "id": "hDi0U_l1XtIk",
        "colab_type": "code",
        "colab": {}
      },
      "source": [
        "# Vocabulary of English\n",
        "all_eng_words=[]\n",
        "for eng in data.English:\n",
        "    for word in eng.split():\n",
        "        if word not in all_eng_words:\n",
        "            all_eng_words.append(word)\n",
        "\n",
        "# Vocabulary of French \n",
        "all_french_words=[]\n",
        "for mar in data.french:\n",
        "    for word in mar.split():\n",
        "        if word not in all_french_words:\n",
        "            all_french_words.append(word)"
      ],
      "execution_count": 0,
      "outputs": []
    },
    {
      "cell_type": "code",
      "metadata": {
        "id": "5rCX0FObZ4JN",
        "colab_type": "code",
        "colab": {}
      },
      "source": [
        "all_eng_words = list(set(all_eng_words))"
      ],
      "execution_count": 0,
      "outputs": []
    },
    {
      "cell_type": "code",
      "metadata": {
        "id": "qIa4hS2ua-3n",
        "colab_type": "code",
        "colab": {}
      },
      "source": [
        "all_french_words = list(set(all_french_words))"
      ],
      "execution_count": 0,
      "outputs": []
    },
    {
      "cell_type": "code",
      "metadata": {
        "id": "eX0dl2XPNpd2",
        "colab_type": "code",
        "outputId": "422d64f6-c81f-43b4-e069-8e89c8d377eb",
        "colab": {
          "base_uri": "https://localhost:8080/",
          "height": 34
        }
      },
      "source": [
        "import numpy as np\n",
        "lenght_list=[]\n",
        "for l in data.English:\n",
        "    lenght_list.append(len(l.split(' ')))\n",
        "max_length_src = np.max(lenght_list)\n",
        "max_length_src"
      ],
      "execution_count": 144,
      "outputs": [
        {
          "output_type": "execute_result",
          "data": {
            "text/plain": [
              "17"
            ]
          },
          "metadata": {
            "tags": []
          },
          "execution_count": 144
        }
      ]
    },
    {
      "cell_type": "code",
      "metadata": {
        "id": "gsOifdDLninm",
        "colab_type": "code",
        "outputId": "9f582cd3-2e78-41ad-9195-a02a1de8cbf4",
        "colab": {
          "base_uri": "https://localhost:8080/",
          "height": 34
        }
      },
      "source": [
        "lenght_list=[]\n",
        "for l in data.french:\n",
        "    lenght_list.append(len(l.split(' ')))\n",
        "max_length_tar = np.max(lenght_list)\n",
        "max_length_tar"
      ],
      "execution_count": 145,
      "outputs": [
        {
          "output_type": "execute_result",
          "data": {
            "text/plain": [
              "23"
            ]
          },
          "metadata": {
            "tags": []
          },
          "execution_count": 145
        }
      ]
    },
    {
      "cell_type": "code",
      "metadata": {
        "id": "cO6NAiNCNpb0",
        "colab_type": "code",
        "outputId": "a4078a3b-a9c4-4106-e5dc-0d62345a5199",
        "colab": {
          "base_uri": "https://localhost:8080/",
          "height": 34
        }
      },
      "source": [
        "\n",
        "#All input words\n",
        "input_words = sorted(list(all_eng_words))\n",
        "target_words = sorted(list(all_french_words))\n",
        "\n",
        "# get the length of the vocabalary // Kitne words // this will help while performing embedding layer\n",
        "num_encoder_tokens = len(all_eng_words) + 1\n",
        "num_decoder_tokens = len(all_french_words) + 1\n",
        "\n",
        "num_encoder_tokens, num_decoder_tokens"
      ],
      "execution_count": 146,
      "outputs": [
        {
          "output_type": "execute_result",
          "data": {
            "text/plain": [
              "(228, 356)"
            ]
          },
          "metadata": {
            "tags": []
          },
          "execution_count": 146
        }
      ]
    },
    {
      "cell_type": "code",
      "metadata": {
        "id": "ffcT8tnQc-iP",
        "colab_type": "code",
        "colab": {}
      },
      "source": [
        "# from word to token we can get\n",
        "input_token_index = dict([(word, i+1) for i, word in enumerate(input_words)])\n",
        "target_token_index = dict([(word, i+1) for i, word in enumerate(target_words)])"
      ],
      "execution_count": 0,
      "outputs": []
    },
    {
      "cell_type": "code",
      "metadata": {
        "id": "u6BrVW-wvqkb",
        "colab_type": "code",
        "colab": {}
      },
      "source": [
        "target_token_index"
      ],
      "execution_count": 0,
      "outputs": []
    },
    {
      "cell_type": "code",
      "metadata": {
        "id": "96-7OL3dAoTJ",
        "colab_type": "code",
        "colab": {}
      },
      "source": [
        "# from token to word we can get\n",
        "reverse_input_char_index = dict((i, word) for word, i in input_token_index.items())\n",
        "reverse_target_char_index = dict((i, word) for word, i in target_token_index.items())"
      ],
      "execution_count": 0,
      "outputs": []
    },
    {
      "cell_type": "code",
      "metadata": {
        "id": "o9hXENXBhBTe",
        "colab_type": "code",
        "outputId": "a602ef29-4ef4-46bd-ac0d-acb93cddd2b1",
        "colab": {
          "base_uri": "https://localhost:8080/",
          "height": 204
        }
      },
      "source": [
        "from sklearn.utils import shuffle\n",
        "data = shuffle(data)\n",
        "data.head()"
      ],
      "execution_count": 150,
      "outputs": [
        {
          "output_type": "execute_result",
          "data": {
            "text/html": [
              "<div>\n",
              "<style scoped>\n",
              "    .dataframe tbody tr th:only-of-type {\n",
              "        vertical-align: middle;\n",
              "    }\n",
              "\n",
              "    .dataframe tbody tr th {\n",
              "        vertical-align: top;\n",
              "    }\n",
              "\n",
              "    .dataframe thead th {\n",
              "        text-align: right;\n",
              "    }\n",
              "</style>\n",
              "<table border=\"1\" class=\"dataframe\">\n",
              "  <thead>\n",
              "    <tr style=\"text-align: right;\">\n",
              "      <th></th>\n",
              "      <th>English</th>\n",
              "      <th>french</th>\n",
              "    </tr>\n",
              "  </thead>\n",
              "  <tbody>\n",
              "    <tr>\n",
              "      <th>53378</th>\n",
              "      <td>the strawberry is his favorite fruit , but the...</td>\n",
              "      <td>la fraise est son fruit préféré , mais la poir...</td>\n",
              "    </tr>\n",
              "    <tr>\n",
              "      <th>38247</th>\n",
              "      <td>he saw that shiny black automobile .</td>\n",
              "      <td>il a vu que brillant automobile noir .</td>\n",
              "    </tr>\n",
              "    <tr>\n",
              "      <th>21815</th>\n",
              "      <td>france is busy during july , and it is usually...</td>\n",
              "      <td>france est occupé en juillet , et il est génér...</td>\n",
              "    </tr>\n",
              "    <tr>\n",
              "      <th>38662</th>\n",
              "      <td>my least liked fruit is the peach , but her le...</td>\n",
              "      <td>mon moins aimé des fruits est la pêche , mais ...</td>\n",
              "    </tr>\n",
              "    <tr>\n",
              "      <th>128502</th>\n",
              "      <td>the united states is usually dry during novemb...</td>\n",
              "      <td>les états-unis est généralement sec en novembr...</td>\n",
              "    </tr>\n",
              "  </tbody>\n",
              "</table>\n",
              "</div>"
            ],
            "text/plain": [
              "                                                  English                                             french\n",
              "53378   the strawberry is his favorite fruit , but the...  la fraise est son fruit préféré , mais la poir...\n",
              "38247                he saw that shiny black automobile .             il a vu que brillant automobile noir .\n",
              "21815   france is busy during july , and it is usually...  france est occupé en juillet , et il est génér...\n",
              "38662   my least liked fruit is the peach , but her le...  mon moins aimé des fruits est la pêche , mais ...\n",
              "128502  the united states is usually dry during novemb...  les états-unis est généralement sec en novembr..."
            ]
          },
          "metadata": {
            "tags": []
          },
          "execution_count": 150
        }
      ]
    },
    {
      "cell_type": "code",
      "metadata": {
        "id": "h5Wuj1cAhBXx",
        "colab_type": "code",
        "outputId": "2e0b88a3-d383-41d9-c1dc-a085c2060639",
        "colab": {
          "base_uri": "https://localhost:8080/",
          "height": 34
        }
      },
      "source": [
        "# Train - Test Split\n",
        "from sklearn.model_selection import train_test_split\n",
        "X, y = data.English, data.french\n",
        "X_train, X_test, y_train, y_test = train_test_split(X, y, test_size = 0.1)\n",
        "X_train.shape, X_test.shape"
      ],
      "execution_count": 170,
      "outputs": [
        {
          "output_type": "execute_result",
          "data": {
            "text/plain": [
              "((124074,), (13786,))"
            ]
          },
          "metadata": {
            "tags": []
          },
          "execution_count": 170
        }
      ]
    },
    {
      "cell_type": "code",
      "metadata": {
        "id": "QWCmkE25lFYV",
        "colab_type": "code",
        "colab": {}
      },
      "source": [
        "def generate_batch(X=X_train, y=y_train, batch_size=1000):\n",
        "    while True:\n",
        "      # in every batch we are sending (batch_size) of sentences\n",
        "        for j in range(0, len(X), batch_size):\n",
        "            encoder_input_data = np.zeros((batch_size, max_length_src),\n",
        "                    dtype='float32')\n",
        "            decoder_input_data = np.zeros((batch_size, max_length_tar),\n",
        "                    dtype='float32')\n",
        "            decoder_target_data = np.zeros((batch_size, max_length_tar,\n",
        "                    num_decoder_tokens), dtype='float32')\n",
        "\n",
        "            # for all the sentences in the batch\n",
        "            for (i, (input_text, target_text)) in enumerate(zip(X[j:j\n",
        "                    + batch_size], y[j:j + batch_size])):\n",
        "\n",
        "                # for words in each sentence //English\n",
        "                for (t, word) in enumerate(input_text.split()):  # English wale text ko tokenize kiya gaya\n",
        "                    encoder_input_data[i] = input_token_index[word]  # encoder input seq\n",
        "\n",
        "                # for each word in French Sentence\n",
        "                for (t, word) in enumerate(target_text.split()):  # t is the length of the sentence\n",
        "                    if t < len(target_text.split()):\n",
        "                        decoder_input_data[i] = target_token_index[word]  # decoder input seq\n",
        "                    if t > 0:\n",
        "                        #one-hot encoding \n",
        "                        #and making it to the output shape from decoder\n",
        "                        decoder_target_data[i, t - 1,\n",
        "                                target_token_index[word]] = 1.\n",
        "                                                       \n",
        "            yield ([encoder_input_data, decoder_input_data],\n",
        "                   decoder_target_data)  # this will help multiple return// like closure in swift\n"
      ],
      "execution_count": 0,
      "outputs": []
    },
    {
      "cell_type": "code",
      "metadata": {
        "id": "agN3uPx8hJT7",
        "colab_type": "code",
        "colab": {}
      },
      "source": [
        "from keras.layers import Dense, Dropout, Embedding, LSTM, Bidirectional,CuDNNLSTM,Concatenate\n",
        "from keras.layers import Input, LSTM, Embedding, Dense\n",
        "from keras.models import Model\n",
        "# Encoder\n",
        "latent_dim = 64 # how much dimension of output we want form the embedding layer\n",
        "encoder_inputs = Input(shape=(None,)) # mentioning the input shape row and collumns are still null\n",
        "\n",
        "# **num_encoder_tokens** vocabulary size we are having\n",
        "enc_emb =  Embedding(num_encoder_tokens, latent_dim, mask_zero = True)(encoder_inputs) #Embedding layer # this layer will make it 3D\n",
        "\n",
        "#training the LSTM on encoder\n",
        "# encoder_lstm = LSTM(latent_dim, return_state=True)\n",
        "lstm, forward_h, forward_c, backward_h, backward_c = Bidirectional(LSTM(128, return_sequences=True, return_state=True))(enc_emb)\n",
        "state_h = Concatenate()([forward_h, backward_h])\n",
        "state_c = Concatenate()([forward_c, backward_c])\n",
        "# encoder_outputs, state_h, state_c = encoder_lstm(enc_emb) #output\n",
        "\n",
        "\n",
        "encoder_states = [state_h, state_c] #output and the cell state"
      ],
      "execution_count": 0,
      "outputs": []
    },
    {
      "cell_type": "code",
      "metadata": {
        "id": "72FkFUHOh-Kf",
        "colab_type": "code",
        "colab": {}
      },
      "source": [
        "\n",
        "#  Set up the decoder, using `encoder_states` as initial state.\n",
        "decoder_inputs = Input(shape=(None,)) #french's input\n",
        "dec_emb_layer = Embedding(num_decoder_tokens, latent_dim, mask_zero = True) \n",
        "dec_emb = dec_emb_layer(decoder_inputs) # french sikhaye hum Embedding layer ko\n",
        "\n",
        "\n",
        "# We set up our decoder to return full output sequences,\n",
        "# and to return internal states as well. We don't use the\n",
        "# return states in the training model, but we will use them in inference.\n",
        "\n",
        "\n",
        "decoder_lstm = LSTM(256, return_sequences=True, return_state=True)\n",
        "decoder_outputs, _, _ = decoder_lstm(dec_emb,initial_state=encoder_states)\n",
        "\n",
        "decoder_dense = Dense(num_decoder_tokens, activation='softmax')\n",
        "decoder_outputs = decoder_dense(decoder_outputs)\n",
        "\n",
        "# Define the model that will turn\n",
        "# `encoder_input_data` & `decoder_input_data` into `decoder_target_data`\n",
        "model = Model([encoder_inputs, decoder_inputs], decoder_outputs)"
      ],
      "execution_count": 0,
      "outputs": []
    },
    {
      "cell_type": "code",
      "metadata": {
        "id": "Yf_PYG_th-T9",
        "colab_type": "code",
        "colab": {}
      },
      "source": [
        "model.compile(optimizer='adam', loss='categorical_crossentropy', metrics=['acc'])"
      ],
      "execution_count": 0,
      "outputs": []
    },
    {
      "cell_type": "code",
      "metadata": {
        "id": "G4WsxOpo79bC",
        "colab_type": "code",
        "outputId": "8feff4dc-ba18-44ca-d3ba-fe833b333556",
        "colab": {
          "base_uri": "https://localhost:8080/",
          "height": 544
        }
      },
      "source": [
        "print(model.summary())"
      ],
      "execution_count": 66,
      "outputs": [
        {
          "output_type": "stream",
          "text": [
            "Model: \"model_6\"\n",
            "__________________________________________________________________________________________________\n",
            "Layer (type)                    Output Shape         Param #     Connected to                     \n",
            "==================================================================================================\n",
            "input_7 (InputLayer)            (None, None)         0                                            \n",
            "__________________________________________________________________________________________________\n",
            "embedding_3 (Embedding)         (None, None, 64)     14592       input_7[0][0]                    \n",
            "__________________________________________________________________________________________________\n",
            "input_8 (InputLayer)            (None, None)         0                                            \n",
            "__________________________________________________________________________________________________\n",
            "bidirectional_2 (Bidirectional) [(None, None, 256),  197632      embedding_3[0][0]                \n",
            "__________________________________________________________________________________________________\n",
            "embedding_4 (Embedding)         (None, None, 64)     22784       input_8[0][0]                    \n",
            "__________________________________________________________________________________________________\n",
            "concatenate_3 (Concatenate)     (None, 256)          0           bidirectional_2[0][1]            \n",
            "                                                                 bidirectional_2[0][3]            \n",
            "__________________________________________________________________________________________________\n",
            "concatenate_4 (Concatenate)     (None, 256)          0           bidirectional_2[0][2]            \n",
            "                                                                 bidirectional_2[0][4]            \n",
            "__________________________________________________________________________________________________\n",
            "lstm_4 (LSTM)                   [(None, None, 256),  328704      embedding_4[0][0]                \n",
            "                                                                 concatenate_3[0][0]              \n",
            "                                                                 concatenate_4[0][0]              \n",
            "__________________________________________________________________________________________________\n",
            "dense_2 (Dense)                 (None, None, 356)    91492       lstm_4[0][0]                     \n",
            "==================================================================================================\n",
            "Total params: 655,204\n",
            "Trainable params: 655,204\n",
            "Non-trainable params: 0\n",
            "__________________________________________________________________________________________________\n",
            "None\n"
          ],
          "name": "stdout"
        }
      ]
    },
    {
      "cell_type": "code",
      "metadata": {
        "id": "dVXgCsmaCuBN",
        "colab_type": "code",
        "outputId": "aeafe923-7026-4acb-dec8-3d4e4f4c239c",
        "colab": {
          "base_uri": "https://localhost:8080/",
          "height": 564
        }
      },
      "source": [
        "from keras.utils import plot_model\n",
        "plot_model(model, to_file='multilayer_perceptron_graph.png')"
      ],
      "execution_count": 67,
      "outputs": [
        {
          "output_type": "execute_result",
          "data": {
            "image/png": "[encoded data removed]",
            "text/plain": [
              "<IPython.core.display.Image object>"
            ]
          },
          "metadata": {
            "tags": []
          },
          "execution_count": 67
        }
      ]
    },
    {
      "cell_type": "code",
      "metadata": {
        "id": "65tH24NPh-ZQ",
        "colab_type": "code",
        "colab": {
          "base_uri": "https://localhost:8080/",
          "height": 68
        },
        "outputId": "98485f8b-57ff-4b46-9d7a-1288864fcbc7"
      },
      "source": [
        "import numpy as np\n",
        "model.fit_generator(generator = generate_batch(X_train, y_train, batch_size = 1000),\n",
        "                    steps_per_epoch = 50,\n",
        "                    epochs=1,\n",
        "                    validation_data = generate_batch(X_test, y_test, batch_size = 1000),\n",
        "                    validation_steps = 50 \n",
        "                    )"
      ],
      "execution_count": 70,
      "outputs": [
        {
          "output_type": "stream",
          "text": [
            "Epoch 1/1\n",
            "50/50 [==============================] - 17s 339ms/step - loss: 1.9336 - acc: 0.1366 - val_loss: 1.9093 - val_acc: 0.1375\n"
          ],
          "name": "stdout"
        },
        {
          "output_type": "execute_result",
          "data": {
            "text/plain": [
              "<keras.callbacks.History at 0x7f4217cb94a8>"
            ]
          },
          "metadata": {
            "tags": []
          },
          "execution_count": 70
        }
      ]
    },
    {
      "cell_type": "code",
      "metadata": {
        "id": "AFmLPDqi2l2C",
        "colab_type": "code",
        "colab": {}
      },
      "source": [
        "model.save_weights('nmt_weights.h5')"
      ],
      "execution_count": 0,
      "outputs": []
    },
    {
      "cell_type": "code",
      "metadata": {
        "id": "viJvpED25m6s",
        "colab_type": "code",
        "colab": {}
      },
      "source": [
        "model.load_weights('nmt_weights.h5')"
      ],
      "execution_count": 0,
      "outputs": []
    },
    {
      "cell_type": "code",
      "metadata": {
        "id": "2ShFI9RQqsVk",
        "colab_type": "code",
        "colab": {}
      },
      "source": [
        "#Making new model so that we can predict the output\n",
        "# taking all input and output of the encoder from the previous model to here\n",
        "    #encoder_inputs: It's the tokenized and padded words from the english\n",
        "encoder_model = Model(encoder_inputs, encoder_states) # this is not used for the input in the LSTM"
      ],
      "execution_count": 0,
      "outputs": []
    },
    {
      "cell_type": "code",
      "metadata": {
        "id": "J6b2dtuMqiY3",
        "colab_type": "code",
        "outputId": "ea5fef33-1f4a-414a-d7cc-ef2bb1b23b1a",
        "colab": {
          "base_uri": "https://localhost:8080/",
          "height": 369
        }
      },
      "source": [
        "from keras.utils import plot_model\n",
        "plot_model(encoder_model, to_file='multilayer_perceptron_graph.png')"
      ],
      "execution_count": 75,
      "outputs": [
        {
          "output_type": "execute_result",
          "data": {
            "image/png": "[encoded data removed]",
            "text/plain": [
              "<IPython.core.display.Image object>"
            ]
          },
          "metadata": {
            "tags": []
          },
          "execution_count": 75
        }
      ]
    },
    {
      "cell_type": "code",
      "metadata": {
        "id": "7O1l0GRnqXuQ",
        "colab_type": "code",
        "outputId": "191b53fb-4731-4235-c7ba-fa0f1f61596f",
        "colab": {
          "base_uri": "https://localhost:8080/",
          "height": 357
        }
      },
      "source": [
        "encoder_model.summary()\n"
      ],
      "execution_count": 76,
      "outputs": [
        {
          "output_type": "stream",
          "text": [
            "Model: \"model_7\"\n",
            "__________________________________________________________________________________________________\n",
            "Layer (type)                    Output Shape         Param #     Connected to                     \n",
            "==================================================================================================\n",
            "input_7 (InputLayer)            (None, None)         0                                            \n",
            "__________________________________________________________________________________________________\n",
            "embedding_3 (Embedding)         (None, None, 64)     14592       input_7[0][0]                    \n",
            "__________________________________________________________________________________________________\n",
            "bidirectional_2 (Bidirectional) [(None, None, 256),  197632      embedding_3[0][0]                \n",
            "__________________________________________________________________________________________________\n",
            "concatenate_3 (Concatenate)     (None, 256)          0           bidirectional_2[0][1]            \n",
            "                                                                 bidirectional_2[0][3]            \n",
            "__________________________________________________________________________________________________\n",
            "concatenate_4 (Concatenate)     (None, 256)          0           bidirectional_2[0][2]            \n",
            "                                                                 bidirectional_2[0][4]            \n",
            "==================================================================================================\n",
            "Total params: 212,224\n",
            "Trainable params: 212,224\n",
            "Non-trainable params: 0\n",
            "__________________________________________________________________________________________________\n"
          ],
          "name": "stdout"
        }
      ]
    },
    {
      "cell_type": "markdown",
      "metadata": {
        "id": "V-RL4UnnNrOD",
        "colab_type": "text"
      },
      "source": [
        "___"
      ]
    },
    {
      "cell_type": "code",
      "metadata": {
        "id": "lD9qWnX3sfKc",
        "colab_type": "code",
        "colab": {}
      },
      "source": [
        "#giving input to decoder\n",
        "decoder_state_input_h = Input(shape=(256,)) # this will be the input form the encoders # cz 256 is from the encoder after concatination \n",
        "decoder_state_input_c = Input(shape=(256,)) #cell state after the encoder\n",
        "\n",
        "decoder_states_inputs = [decoder_state_input_h, decoder_state_input_c]\n",
        "\n",
        "#french words tokenized\n",
        "dec_emb2= dec_emb_layer(decoder_inputs) #Get the embeddings of the decoder sequence\n",
        "\n",
        "#decoder ka output and cell state nikal liya \n",
        "    # decoder_lstm = LSTM(256, return_sequences=True, return_state=True)\n",
        "        # here dec_emb2 we passed the output from the embedding later which for trained on tokenized sentensed of french words\n",
        "decoder_outputs, state_h2, state_c2 = decoder_lstm(dec_emb2, initial_state=decoder_states_inputs)\n",
        "\n",
        "#added both states from the decoder \n",
        "decoder_states = [state_h2, state_c2]  \n",
        "\n",
        "# Passing the output from the decoder model to the dense layer\n",
        "decoder_output_dense = decoder_dense(decoder_outputs)\n",
        "\n",
        "# Final decoder model\n",
        "# decoder_inputs : Embedding layer ko french sentence tokenizer\n",
        "# decoder_states_inputs : this is from the encoder\n",
        "# decoder_outputs2 : #ye decoder ka output he //predicted values from the decoder not the cellstate or output(h)\n",
        "# decoder_states2 : #ye output(h) & cell state h from decoder\n",
        "\n",
        "\n",
        "decoder_model = Model(\n",
        "    [decoder_inputs] + decoder_states_inputs,\n",
        "    [decoder_output_dense] + decoder_states)"
      ],
      "execution_count": 0,
      "outputs": []
    },
    {
      "cell_type": "code",
      "metadata": {
        "id": "pBVnsk5sMxHC",
        "colab_type": "code",
        "colab": {
          "base_uri": "https://localhost:8080/",
          "height": 408
        },
        "outputId": "fd893304-5ace-412f-cff3-b0d39ff9cd1d"
      },
      "source": [
        "print(decoder_model.summary())"
      ],
      "execution_count": 78,
      "outputs": [
        {
          "output_type": "stream",
          "text": [
            "Model: \"model_8\"\n",
            "__________________________________________________________________________________________________\n",
            "Layer (type)                    Output Shape         Param #     Connected to                     \n",
            "==================================================================================================\n",
            "input_8 (InputLayer)            (None, None)         0                                            \n",
            "__________________________________________________________________________________________________\n",
            "embedding_4 (Embedding)         (None, None, 64)     22784       input_8[0][0]                    \n",
            "__________________________________________________________________________________________________\n",
            "input_9 (InputLayer)            (None, 256)          0                                            \n",
            "__________________________________________________________________________________________________\n",
            "input_10 (InputLayer)           (None, 256)          0                                            \n",
            "__________________________________________________________________________________________________\n",
            "lstm_4 (LSTM)                   [(None, None, 256),  328704      embedding_4[1][0]                \n",
            "                                                                 input_9[0][0]                    \n",
            "                                                                 input_10[0][0]                   \n",
            "__________________________________________________________________________________________________\n",
            "dense_2 (Dense)                 (None, None, 356)    91492       lstm_4[1][0]                     \n",
            "==================================================================================================\n",
            "Total params: 442,980\n",
            "Trainable params: 442,980\n",
            "Non-trainable params: 0\n",
            "__________________________________________________________________________________________________\n",
            "None\n"
          ],
          "name": "stdout"
        }
      ]
    },
    {
      "cell_type": "code",
      "metadata": {
        "id": "Dh77NQFZqdes",
        "colab_type": "code",
        "colab": {
          "base_uri": "https://localhost:8080/",
          "height": 369
        },
        "outputId": "85dd13e0-8637-4116-d450-83beb2c6af8a"
      },
      "source": [
        "from keras.utils import plot_model\n",
        "plot_model(decoder_model, to_file='multilayer_perceptron_graph.png')"
      ],
      "execution_count": 79,
      "outputs": [
        {
          "output_type": "execute_result",
          "data": {
            "image/png": "[encoded data removed]",
            "text/plain": [
              "<IPython.core.display.Image object>"
            ]
          },
          "metadata": {
            "tags": []
          },
          "execution_count": 79
        }
      ]
    },
    {
      "cell_type": "code",
      "metadata": {
        "id": "h2-XqWuJ5QtU",
        "colab_type": "code",
        "colab": {}
      },
      "source": [
        "def decode_sequence(input_seq):\n",
        "    # Encode the input as state vectors.\n",
        "    states_value = encoder_model.predict(input_seq)\n",
        "\n",
        "\n",
        "    # Generate empty target sequence of length 1.\n",
        "    target_seq = np.zeros((1,1))\n",
        "    # Populate the first character of target sequence with the start character.\n",
        "    target_seq[0, 0] = target_token_index['Start_']\n",
        "\n",
        "\n",
        "\n",
        "\n",
        "\n",
        "    # Sampling loop for a batch of sequences\n",
        "    stop_condition = False\n",
        "    decoded_sentence = ''\n",
        "\n",
        "    while not stop_condition:\n",
        "      # decoder ka ouptput aya\n",
        "        output_tokens, h, c = decoder_model.predict(states_value) # states_values h and c from the encoder to the decoder\n",
        "        # Sample a token\n",
        "        sampled_token_index = np.a rgmax(output_tokens[0, -1, :])\n",
        "        sampled_char = reverse_target_char_index[sampled_token_index]\n",
        "        decoded_sentence += ' '+sampled_char\n",
        "\n",
        "        # Exit condition: either hit max length\n",
        "        # or find stop character.\n",
        "        if (sampled_char == '_End' or\n",
        "           len(decoded_sentence) > 50):\n",
        "            stop_condition = True\n",
        "\n",
        "        # Update the target sequence (of length 1).\n",
        "        target_seq = np.zeros((1,1))\n",
        "        target_seq[0, 0] = sampled_token_index\n",
        "\n",
        "        # Update states\n",
        "        states_value = [h, c]\n",
        "\n",
        "    return decoded_sentence"
      ],
      "execution_count": 0,
      "outputs": []
    },
    {
      "cell_type": "code",
      "metadata": {
        "id": "LzmrXlw86BIn",
        "colab_type": "code",
        "colab": {}
      },
      "source": [
        "train_gen = generate_batch(X_train, y_train, batch_size = 1)\n",
        "k=-1"
      ],
      "execution_count": 0,
      "outputs": []
    },
    {
      "cell_type": "code",
      "metadata": {
        "id": "4YDQelrrwbQu",
        "colab_type": "code",
        "colab": {}
      },
      "source": [
        "\n",
        "(input_seq, actual_output), _ = next(train_gen)"
      ],
      "execution_count": 0,
      "outputs": []
    },
    {
      "cell_type": "code",
      "metadata": {
        "id": "n-MGTcgJ61Fq",
        "colab_type": "code",
        "colab": {}
      },
      "source": [
        "X_train = 'start_ ' + X_train + ' _end'\n",
        "X_test = 'start_ ' + X_test + ' _end'"
      ],
      "execution_count": 0,
      "outputs": []
    },
    {
      "cell_type": "code",
      "metadata": {
        "id": "fdCAnUDt-HLr",
        "colab_type": "code",
        "outputId": "a5469029-5a4a-4e44-d22e-59b77d4170c9",
        "colab": {
          "base_uri": "https://localhost:8080/",
          "height": 119
        }
      },
      "source": [
        "X_train.head()"
      ],
      "execution_count": 181,
      "outputs": [
        {
          "output_type": "execute_result",
          "data": {
            "text/plain": [
              "21705     start_ my favorite fruit is the mango , but he...\n",
              "89645             start_ she likes the big white car . _end\n",
              "38497     start_ you like peaches , apples , and bananas...\n",
              "122949    start_ you like mangoes , strawberries , and l...\n",
              "41179     start_ paris is never wet during autumn , and ...\n",
              "Name: English, dtype: object"
            ]
          },
          "metadata": {
            "tags": []
          },
          "execution_count": 181
        }
      ]
    },
    {
      "cell_type": "code",
      "metadata": {
        "id": "UNSilF4J_AaH",
        "colab_type": "code",
        "colab": {
          "base_uri": "https://localhost:8080/",
          "height": 51
        },
        "outputId": "005922db-e9fe-4bc5-b87a-be6d524b13bc"
      },
      "source": [
        "k+=1\n",
        "X_train[k:k+1]"
      ],
      "execution_count": 189,
      "outputs": [
        {
          "output_type": "execute_result",
          "data": {
            "text/plain": [
              "51356    start_ the mango is his favorite fruit , but t...\n",
              "Name: English, dtype: object"
            ]
          },
          "metadata": {
            "tags": []
          },
          "execution_count": 189
        }
      ]
    },
    {
      "cell_type": "code",
      "metadata": {
        "id": "YdAYuoeT6Jbf",
        "colab_type": "code",
        "outputId": "03105652-db7f-4c47-a752-c494dc0835c4",
        "colab": {
          "base_uri": "https://localhost:8080/",
          "height": 68
        }
      },
      "source": [
        "decoded_sentence = decode_sequence(input_seq)\n",
        "print('Input English sentence:', X_train[k:k+1].values[0])\n",
        "print('Actual French Translation:', y_train[k:k+1].values[0][6:-4])\n",
        "print('Predicted French Translation:', decoded_sentence[:-4])"
      ],
      "execution_count": 183,
      "outputs": [
        {
          "output_type": "stream",
          "text": [
            "Input English sentence: start_ my favorite fruit is the mango , but her favorite is the strawberry . _end\n",
            "Actual Marathi Translation: uit préféré est la mangue , mais son préféré est la frai\n",
            "Predicted Marathi Translation:  préféré est est parfois en en , , mais il est es\n"
          ],
          "name": "stdout"
        }
      ]
    },
    {
      "cell_type": "code",
      "metadata": {
        "id": "ZzXmzNL7_1Ao",
        "colab_type": "code",
        "colab": {
          "base_uri": "https://localhost:8080/",
          "height": 68
        },
        "outputId": "50437396-23c0-4156-afdb-958230caef78"
      },
      "source": [
        "k+=1\n",
        "decoded_sentence = decode_sequence(input_seq)\n",
        "print('Input English sentence:', X_train[k:k+1].values[0])\n",
        "print('Actual french Translation:', y_train[k:k+1].values[0][6:-4])\n",
        "print('Predicted Marathi Translation:', decoded_sentence[:-4])"
      ],
      "execution_count": 188,
      "outputs": [
        {
          "output_type": "stream",
          "text": [
            "Input English sentence: start_ paris is never wet during autumn , and it is chilly in november . _end\n",
            "Actual Marathi Translation: est jamais humide en automne , et il est froid en novemb\n",
            "Predicted Marathi Translation:  préféré est est parfois en en , , mais il est es\n"
          ],
          "name": "stdout"
        }
      ]
    },
    {
      "cell_type": "code",
      "metadata": {
        "id": "bE1YELdkL3G_",
        "colab_type": "code",
        "colab": {}
      },
      "source": [
        ""
      ],
      "execution_count": 0,
      "outputs": []
    }
  ]
}